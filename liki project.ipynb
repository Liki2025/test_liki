{
 "cells": [
  {
   "cell_type": "code",
   "execution_count": 2,
   "id": "b9f55656",
   "metadata": {},
   "outputs": [],
   "source": [
    "import ipywidgets as widgets"
   ]
  },
  {
   "cell_type": "code",
   "execution_count": 3,
   "id": "a108895a",
   "metadata": {},
   "outputs": [
    {
     "data": {
      "application/vnd.jupyter.widget-view+json": {
       "model_id": "e8821e48a3e443c4bcb7f66edafd5bed",
       "version_major": 2,
       "version_minor": 0
      },
      "text/plain": [
       "IntSlider(value=40, max=70, min=30)"
      ]
     },
     "metadata": {},
     "output_type": "display_data"
    },
    {
     "name": "stdout",
     "output_type": "stream",
     "text": [
      "40\n"
     ]
    }
   ],
   "source": [
    "w=widgets.IntSlider(40,30,70)\n",
    "display(w)\n",
    "print(w.value)"
   ]
  },
  {
   "cell_type": "code",
   "execution_count": 4,
   "id": "fa5cfd54",
   "metadata": {},
   "outputs": [
    {
     "data": {
      "text/plain": [
       "40"
      ]
     },
     "execution_count": 4,
     "metadata": {},
     "output_type": "execute_result"
    }
   ],
   "source": [
    "w.value"
   ]
  },
  {
   "cell_type": "code",
   "execution_count": 8,
   "id": "14b4b50c",
   "metadata": {},
   "outputs": [
    {
     "data": {
      "application/vnd.jupyter.widget-view+json": {
       "model_id": "c66a37561690467da5f6b194b83bd728",
       "version_major": 2,
       "version_minor": 0
      },
      "text/plain": [
       "FloatSlider(value=7.5, description='Test:', max=10.0, min=5.0)"
      ]
     },
     "metadata": {},
     "output_type": "display_data"
    },
    {
     "data": {
      "text/plain": [
       "7.5"
      ]
     },
     "execution_count": 8,
     "metadata": {},
     "output_type": "execute_result"
    }
   ],
   "source": [
    "j=widgets.FloatSlider(value=7.5,min=5.0,max=10,step=0.1,description='Test:')\n",
    "display(j)\n",
    "j.value"
   ]
  },
  {
   "cell_type": "code",
   "execution_count": 11,
   "id": "f670605d",
   "metadata": {},
   "outputs": [
    {
     "data": {
      "application/vnd.jupyter.widget-view+json": {
       "model_id": "adb144361f874f858669073357babcb3",
       "version_major": 2,
       "version_minor": 0
      },
      "text/plain": [
       "FloatSlider(value=15.0, description='Test:', max=30.0, min=3.0, orientation='vertical', step=3.0)"
      ]
     },
     "metadata": {},
     "output_type": "display_data"
    },
    {
     "data": {
      "text/plain": [
       "15.0"
      ]
     },
     "execution_count": 11,
     "metadata": {},
     "output_type": "execute_result"
    }
   ],
   "source": [
    "j=widgets.FloatSlider(value=15,min=3.0,max=30,step=3.0,description='Test:',orientation='vertical')\n",
    "display(j)\n",
    "j.value"
   ]
  },
  {
   "cell_type": "code",
   "execution_count": 13,
   "id": "aaac7c32",
   "metadata": {},
   "outputs": [
    {
     "data": {
      "application/vnd.jupyter.widget-view+json": {
       "model_id": "2d9d69e064d842b9a7a409aaf65bb8d2",
       "version_major": 2,
       "version_minor": 0
      },
      "text/plain": [
       "FloatProgress(value=5.0, description='loading:', max=10.0, min=1.0)"
      ]
     },
     "metadata": {},
     "output_type": "display_data"
    }
   ],
   "source": [
    "widgets.FloatProgress(value=5,min=1.0,max=10.0,step=0.1,description='loading:')"
   ]
  },
  {
   "cell_type": "code",
   "execution_count": 18,
   "id": "4e32a418",
   "metadata": {},
   "outputs": [
    {
     "data": {
      "application/vnd.jupyter.widget-view+json": {
       "model_id": "3840f91295ae4171bf377d50892f621e",
       "version_major": 2,
       "version_minor": 0
      },
      "text/plain": [
       "interactive(children=(IntSlider(value=0, description='x'), IntSlider(value=0, description='y'), IntSlider(valu…"
      ]
     },
     "metadata": {},
     "output_type": "display_data"
    },
    {
     "data": {
      "text/plain": [
       "<function __main__.f(x, y, z)>"
      ]
     },
     "execution_count": 18,
     "metadata": {},
     "output_type": "execute_result"
    }
   ],
   "source": [
    "def f(x,y,z):\n",
    "    print(x**2+y**2+z**2)\n",
    "widgets.interact(f,x=widgets.IntSlider(),y=widgets.IntSlider(),z=widgets.IntSlider())"
   ]
  },
  {
   "cell_type": "code",
   "execution_count": 22,
   "id": "2a4aff1a",
   "metadata": {},
   "outputs": [
    {
     "data": {
      "application/vnd.jupyter.widget-view+json": {
       "model_id": "3f83a1bcaaa244d3b2d43019d52f67aa",
       "version_major": 2,
       "version_minor": 0
      },
      "text/plain": [
       "IntSlider(value=0)"
      ]
     },
     "metadata": {},
     "output_type": "display_data"
    },
    {
     "data": {
      "application/vnd.jupyter.widget-view+json": {
       "model_id": "240f13413d0e4ab08bb76ae29f4b845c",
       "version_major": 2,
       "version_minor": 0
      },
      "text/plain": [
       "IntSlider(value=0)"
      ]
     },
     "metadata": {},
     "output_type": "display_data"
    },
    {
     "data": {
      "application/vnd.jupyter.widget-view+json": {
       "model_id": "996987a833a443eda097d988d3c33332",
       "version_major": 2,
       "version_minor": 0
      },
      "text/plain": [
       "Button(description='submit', style=ButtonStyle())"
      ]
     },
     "metadata": {},
     "output_type": "display_data"
    },
    {
     "data": {
      "application/vnd.jupyter.widget-view+json": {
       "model_id": "31bddefc267b4dc5a8668c06ea7fa629",
       "version_major": 2,
       "version_minor": 0
      },
      "text/plain": [
       "interactive(children=(IntSlider(value=25, description='x'), IntSlider(value=28, description='y'), Output()), _…"
      ]
     },
     "metadata": {},
     "output_type": "display_data"
    }
   ],
   "source": [
    "def f(x,y):\n",
    "    print(x+y)\n",
    "x=widgets.IntSlider()\n",
    "y=widgets.IntSlider()\n",
    "h=widgets.Button(description=\"submit\")\n",
    "def inet(self):\n",
    "    widgets.interact(f,x=x,y=y)\n",
    "h.on_click(inet)\n",
    "display(x)\n",
    "display(y)\n",
    "display(h)"
   ]
  },
  {
   "cell_type": "markdown",
   "id": "6adbcef7",
   "metadata": {},
   "source": []
  },
  {
   "cell_type": "code",
   "execution_count": 32,
   "id": "cd53e5f8",
   "metadata": {},
   "outputs": [
    {
     "data": {
      "application/vnd.jupyter.widget-view+json": {
       "model_id": "c0572f7a08ce422cb11eb34748c00a6f",
       "version_major": 2,
       "version_minor": 0
      },
      "text/plain": [
       "Button(description='greet', style=ButtonStyle())"
      ]
     },
     "metadata": {},
     "output_type": "display_data"
    },
    {
     "name": "stdout",
     "output_type": "stream",
     "text": [
      "Hello\n"
     ]
    }
   ],
   "source": [
    "def greet(self):\n",
    "    print(\"Hello\")\n",
    "h=widgets.Button(description='greet')\n",
    "display(h)\n",
    "h.on_click(greet)"
   ]
  },
  {
   "cell_type": "code",
   "execution_count": 39,
   "id": "84854bd6",
   "metadata": {},
   "outputs": [
    {
     "data": {
      "application/vnd.jupyter.widget-view+json": {
       "model_id": "b1acf34ff4594e338f3e36917f54dfc1",
       "version_major": 2,
       "version_minor": 0
      },
      "text/plain": [
       "IntSlider(value=0)"
      ]
     },
     "metadata": {},
     "output_type": "display_data"
    },
    {
     "data": {
      "application/vnd.jupyter.widget-view+json": {
       "model_id": "1c1fea5360fe4da781812bffd02f2d1a",
       "version_major": 2,
       "version_minor": 0
      },
      "text/plain": [
       "IntSlider(value=0)"
      ]
     },
     "metadata": {},
     "output_type": "display_data"
    },
    {
     "data": {
      "application/vnd.jupyter.widget-view+json": {
       "model_id": "7ff917fe0fff4894a2531c0806cf558c",
       "version_major": 2,
       "version_minor": 0
      },
      "text/plain": [
       "IntSlider(value=0)"
      ]
     },
     "metadata": {},
     "output_type": "display_data"
    },
    {
     "data": {
      "application/vnd.jupyter.widget-view+json": {
       "model_id": "8e21e08a830543a0b17b1242dfa80285",
       "version_major": 2,
       "version_minor": 0
      },
      "text/plain": [
       "IntSlider(value=0)"
      ]
     },
     "metadata": {},
     "output_type": "display_data"
    },
    {
     "data": {
      "application/vnd.jupyter.widget-view+json": {
       "model_id": "08de9299939142a2afcc60be7f34e5eb",
       "version_major": 2,
       "version_minor": 0
      },
      "text/plain": [
       "Button(description='Submit', style=ButtonStyle())"
      ]
     },
     "metadata": {},
     "output_type": "display_data"
    },
    {
     "name": "stdout",
     "output_type": "stream",
     "text": [
      "1385.111111111111\n"
     ]
    }
   ],
   "source": [
    "a=widgets.IntSlider()\n",
    "b=widgets.IntSlider()\n",
    "c=widgets.IntSlider()\n",
    "z=widgets.IntSlider()\n",
    "k=widgets.Button(description=\"Submit\")\n",
    "def eq2(self):\n",
    "    print(a.value**3+b.value**2+c.value**4+z.value**-2)\n",
    "display(a)\n",
    "display(b)\n",
    "display(c)\n",
    "display(z)\n",
    "display(k)\n",
    "k.on_click(eq2)"
   ]
  },
  {
   "cell_type": "code",
   "execution_count": 43,
   "id": "d3371893",
   "metadata": {},
   "outputs": [
    {
     "data": {
      "application/vnd.jupyter.widget-view+json": {
       "model_id": "fe008015e09246e890946a4beba3b0a3",
       "version_major": 2,
       "version_minor": 0
      },
      "text/plain": [
       "HBox(children=(IntSlider(value=0), IntSlider(value=0), IntSlider(value=0), IntSlider(value=0), Button(descript…"
      ]
     },
     "metadata": {},
     "output_type": "display_data"
    },
    {
     "data": {
      "application/vnd.jupyter.widget-view+json": {
       "model_id": "a902fb17982a44508c37aff5ae2dc32d",
       "version_major": 2,
       "version_minor": 0
      },
      "text/plain": [
       "IntSlider(value=0)"
      ]
     },
     "metadata": {},
     "output_type": "display_data"
    },
    {
     "data": {
      "application/vnd.jupyter.widget-view+json": {
       "model_id": "451651c35999437d9294aacc0e00854b",
       "version_major": 2,
       "version_minor": 0
      },
      "text/plain": [
       "IntSlider(value=0)"
      ]
     },
     "metadata": {},
     "output_type": "display_data"
    },
    {
     "data": {
      "application/vnd.jupyter.widget-view+json": {
       "model_id": "68dc0a91254b437190688fe2451c8697",
       "version_major": 2,
       "version_minor": 0
      },
      "text/plain": [
       "IntSlider(value=0)"
      ]
     },
     "metadata": {},
     "output_type": "display_data"
    },
    {
     "data": {
      "application/vnd.jupyter.widget-view+json": {
       "model_id": "b5dbd14ce990411dbbda76c1bdd9d629",
       "version_major": 2,
       "version_minor": 0
      },
      "text/plain": [
       "IntSlider(value=0)"
      ]
     },
     "metadata": {},
     "output_type": "display_data"
    },
    {
     "data": {
      "application/vnd.jupyter.widget-view+json": {
       "model_id": "e2fecc164500434f9858fed64fbbdcb6",
       "version_major": 2,
       "version_minor": 0
      },
      "text/plain": [
       "Button(description='Submit', style=ButtonStyle())"
      ]
     },
     "metadata": {},
     "output_type": "display_data"
    },
    {
     "name": "stdout",
     "output_type": "stream",
     "text": [
      "32612.003086419754\n"
     ]
    }
   ],
   "source": [
    "a=widgets.IntSlider()\n",
    "b=widgets.IntSlider()\n",
    "c=widgets.IntSlider()\n",
    "z=widgets.IntSlider()\n",
    "k=widgets.Button(description=\"Submit\")\n",
    "def eq2(self):\n",
    "    print(a.value**3+b.value**2+c.value**4+z.value**-2)\n",
    "f=widgets.HBox([a,b,c,z,k])\n",
    "display(f)\n",
    "display(a)\n",
    "display(b)\n",
    "display(c)\n",
    "display(z)\n",
    "display(k)\n",
    "k.on_click(eq2)"
   ]
  },
  {
   "cell_type": "code",
   "execution_count": 45,
   "id": "ae09ebc6",
   "metadata": {},
   "outputs": [
    {
     "data": {
      "application/vnd.jupyter.widget-view+json": {
       "model_id": "f26a2d14984a40aea3e5d43d5ebeefb5",
       "version_major": 2,
       "version_minor": 0
      },
      "text/plain": [
       "Text(value='Hello World', description='String:')"
      ]
     },
     "metadata": {},
     "output_type": "display_data"
    }
   ],
   "source": [
    "h=widgets.Text(description='String:',value='Hello World')\n",
    "display(h)"
   ]
  },
  {
   "cell_type": "code",
   "execution_count": 46,
   "id": "72c46e20",
   "metadata": {},
   "outputs": [
    {
     "data": {
      "text/plain": [
       "'Hello World'"
      ]
     },
     "execution_count": 46,
     "metadata": {},
     "output_type": "execute_result"
    }
   ],
   "source": [
    "h.value"
   ]
  },
  {
   "cell_type": "code",
   "execution_count": 55,
   "id": "c0fa1d7e",
   "metadata": {},
   "outputs": [
    {
     "data": {
      "application/vnd.jupyter.widget-view+json": {
       "model_id": "91983f38c0ea46a59d4c3a2d1a8bce51",
       "version_major": 2,
       "version_minor": 0
      },
      "text/plain": [
       "Text(value='', description='Name')"
      ]
     },
     "metadata": {},
     "output_type": "display_data"
    },
    {
     "data": {
      "application/vnd.jupyter.widget-view+json": {
       "model_id": "a69b0df2172641bb832f9280e1d0c1af",
       "version_major": 2,
       "version_minor": 0
      },
      "text/plain": [
       "Button(description='Greet', style=ButtonStyle())"
      ]
     },
     "metadata": {},
     "output_type": "display_data"
    },
    {
     "name": "stdout",
     "output_type": "stream",
     "text": [
      "Hello  LIKI\n"
     ]
    }
   ],
   "source": [
    "y=widgets.Text(description=\"Name\")\n",
    "def greet(self):\n",
    "    print(\"Hello\"+' ',str(y.value))\n",
    "h=widgets.Button(description=\"Greet\")\n",
    "display(y)\n",
    "display(h)\n",
    "h.on_click(greet)"
   ]
  },
  {
   "cell_type": "code",
   "execution_count": 54,
   "id": "705cfc59",
   "metadata": {},
   "outputs": [
    {
     "data": {
      "application/vnd.jupyter.widget-view+json": {
       "model_id": "51187162a2de4f4281a6bd04142aff2b",
       "version_major": 2,
       "version_minor": 0
      },
      "text/plain": [
       "RadioButtons(description='Pizza topping:', options=('pepperoni', 'pineapple', 'anchovies'), value='pepperoni')"
      ]
     },
     "metadata": {},
     "output_type": "display_data"
    }
   ],
   "source": [
    "widgets.RadioButtons(\n",
    "    description='Pizza topping:',\n",
    "    options=['pepperoni','pineapple','anchovies']\n",
    ")"
   ]
  },
  {
   "cell_type": "code",
   "execution_count": 59,
   "id": "0c6569c8",
   "metadata": {},
   "outputs": [
    {
     "data": {
      "application/vnd.jupyter.widget-view+json": {
       "model_id": "db423422456d4b2cad84f650e0ce0c97",
       "version_major": 2,
       "version_minor": 0
      },
      "text/plain": [
       "VBox(children=(HBox(children=(FloatSlider(value=0.0), FloatSlider(value=0.0), RadioButtons(description='Choose…"
      ]
     },
     "metadata": {},
     "output_type": "display_data"
    },
    {
     "name": "stdout",
     "output_type": "stream",
     "text": [
      "0.0\n"
     ]
    }
   ],
   "source": [
    "g=widgets.RadioButtons(description=\"Choose:\",options=[\"add\",\"sub\",\"multiply\"])\n",
    "j=widgets.Button(description=\"Submit\")\n",
    "k=widgets.FloatSlider()\n",
    "s=widgets.FloatSlider()\n",
    "d=widgets.VBox([widgets.HBox([k,s,g]),j])\n",
    "display(d)\n",
    "def eq(self):\n",
    "    if g.value==\"add\":\n",
    "        print(k.value+s.value)\n",
    "    elif g.value==\"sub\":\n",
    "        print(k.value-s.value)\n",
    "    elif g.value==\"multiply\":\n",
    "        print(k.value*s.value)\n",
    "j.on_click(eq)    "
   ]
  },
  {
   "cell_type": "markdown",
   "id": "8c5a835b",
   "metadata": {},
   "source": [
    "INCOME TAX CALCULATOR"
   ]
  },
  {
   "cell_type": "code",
   "execution_count": 73,
   "id": "7958ebe9",
   "metadata": {},
   "outputs": [
    {
     "data": {
      "application/vnd.jupyter.widget-view+json": {
       "model_id": "788a77df46544388a9563caf636f58a4",
       "version_major": 2,
       "version_minor": 0
      },
      "text/plain": [
       "FloatText(value=0.0, description='Income')"
      ]
     },
     "metadata": {},
     "output_type": "display_data"
    },
    {
     "data": {
      "application/vnd.jupyter.widget-view+json": {
       "model_id": "35e74bae8f224df1969a9632dc6f8c24",
       "version_major": 2,
       "version_minor": 0
      },
      "text/plain": [
       "Button(description='Tax', style=ButtonStyle())"
      ]
     },
     "metadata": {},
     "output_type": "display_data"
    },
    {
     "name": "stdout",
     "output_type": "stream",
     "text": [
      "Tax amount:437500.0\n"
     ]
    }
   ],
   "source": [
    "I=widgets.FloatText(description=\"Income\")\n",
    "def it(self):\n",
    "    i=I.value/100000\n",
    "    if i>=0 and i<=2.5:\n",
    "        z=i*0\n",
    "    elif i>=2.5 and i<=5:\n",
    "        z=(i-2.5)*0.05\n",
    "    elif i>=5 and i<=7.5:\n",
    "        z=(i-5)*0.1+1+(2.5)*0.05\n",
    "    elif i>=7.5 and i<=10:\n",
    "        z=(i-7.5)*0.15+(5)*0.1+(2.5)*0.05\n",
    "    elif i>=10 and i<=12.5:\n",
    "        z=(i-10)*0.2+(7.5)*0.15+(5)*0.1+(2.5)*0.05\n",
    "    elif i>=12.5 and i<=15:\n",
    "        z=(i-12.5)*0.25+(10)*0.2+(7.5)*0.15+(5)*0.1+(2.5)*0.05\n",
    "    elif i>15:\n",
    "        z=(i-15)*0.3+(12.5)*0.25+(10)*0.2+(7.5)*0.15+(5)*0.1+(2.5)*0.05\n",
    "    print(\"Tax amount:\"+str(z*100000))\n",
    "h=widgets.Button(description=\"Tax\")\n",
    "display(I)\n",
    "display(h)\n",
    "h.on_click(it)"
   ]
  },
  {
   "cell_type": "code",
   "execution_count": 67,
   "id": "3aa2ecd5",
   "metadata": {},
   "outputs": [
    {
     "name": "stdout",
     "output_type": "stream",
     "text": [
      "Tax amount:0.0\n"
     ]
    }
   ],
   "source": []
  },
  {
   "cell_type": "code",
   "execution_count": null,
   "id": "c6e4535b",
   "metadata": {},
   "outputs": [],
   "source": []
  },
  {
   "cell_type": "code",
   "execution_count": null,
   "id": "a8960f71",
   "metadata": {},
   "outputs": [],
   "source": []
  }
 ],
 "metadata": {
  "kernelspec": {
   "display_name": "Python 3 (ipykernel)",
   "language": "python",
   "name": "python3"
  },
  "language_info": {
   "codemirror_mode": {
    "name": "ipython",
    "version": 3
   },
   "file_extension": ".py",
   "mimetype": "text/x-python",
   "name": "python",
   "nbconvert_exporter": "python",
   "pygments_lexer": "ipython3",
   "version": "3.9.13"
  }
 },
 "nbformat": 4,
 "nbformat_minor": 5

